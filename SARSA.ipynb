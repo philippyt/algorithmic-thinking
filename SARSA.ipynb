{
 "cells": [
  {
   "cell_type": "code",
   "execution_count": 2,
   "metadata": {
    "collapsed": true
   },
   "outputs": [],
   "source": [
    "import time\n",
    "import matplotlib.pyplot as plt\n",
    "import numpy as np\n",
    "from seaborn import heatmap"
   ]
  },
  {
   "cell_type": "code",
   "execution_count": null,
   "outputs": [],
   "source": [
    "np.set_printoptions(precision=3, suppress=1)\n",
    "plt.style.use('seaborn-notebook')"
   ],
   "metadata": {
    "collapsed": false
   }
  },
  {
   "cell_type": "code",
   "execution_count": 4,
   "outputs": [
    {
     "data": {
      "text/plain": "<Figure size 400x400 with 1 Axes>",
      "image/png": "[encoded data removed]"
     },
     "metadata": {},
     "output_type": "display_data"
    }
   ],
   "source": [
    "class Grid(object):\n",
    "\n",
    "  def __init__(self, noisy=False):\n",
    "    # -1: wall\n",
    "    # 0: empty, episode continues\n",
    "    # other: number indicates reward, episode will terminate\n",
    "\n",
    "    self._layout = np.array([\n",
    "      [-1, -1, -1, -1, -1, -1, -1, -1, -1, -1, -1],\n",
    "      [-1,  0,  0,  0,  0,  0,  0,  0,  0,  0, -1],\n",
    "      [-1,  0,  0,  0, -1, -1, -1,  0,  0,  0, -1],\n",
    "      [-1,  0,  0,  0, -1, -1, -1,  0, 10,  0, -1],\n",
    "      [-1,  0,  0,  0, -1, -1, -1,  0,  0,  0, -1],\n",
    "      [-1,  0,  0,  0,  0,  0,  0,  0,  0,  0, -1],\n",
    "      [-1,  0,  0,  0,  0,  0,  0,  0,  0,  0, -1],\n",
    "      [-1,  0,  0,  0,  0,  0,  0,  0,  0,  0, -1],\n",
    "      [-1, -1, -1, -1, -1, -1, -1, -1, -1, -1, -1]\n",
    "    ])\n",
    "    self._start_state = (2, 2)\n",
    "    self._terminal_state = (3, 8)\n",
    "    self._state = self._start_state\n",
    "    self._number_of_states = np.prod(np.shape(self._layout))\n",
    "    self._noisy = noisy\n",
    "\n",
    "\n",
    "  @property\n",
    "  def number_of_states(self):\n",
    "      return self._number_of_states\n",
    "\n",
    "\n",
    "  def plot_grid(self):\n",
    "    plt.figure(figsize=(4, 4))\n",
    "    plt.imshow(self._layout > -1, interpolation=\"nearest\", cmap='pink')\n",
    "    ax = plt.gca() # 'get current axis'\n",
    "    ax.grid(0)\n",
    "    plt.xticks([])\n",
    "    plt.yticks([])\n",
    "    plt.title(\"The grid\")\n",
    "    plt.text(2, 2, r\"\", ha='center', va='center')\n",
    "    plt.text(8, 3, r\"\", ha='center', va='center')\n",
    "    h, w = self._layout.shape\n",
    "    for y in range(h-1):\n",
    "      plt.plot([-0.5, w-0.5], [y+0.5, y+0.5], '-k', lw=2)\n",
    "    for x in range(w-1):\n",
    "      plt.plot([x+0.5, x+0.5], [-0.5, h-0.5], '-k', lw=2)\n",
    "\n",
    "\n",
    "  def get_obs(self, terminal = False):\n",
    "    if terminal:\n",
    "      y, x = self._terminal_state\n",
    "    else:\n",
    "      y, x = self._state\n",
    "\n",
    "    # Flatten state: rows*#columns + column\n",
    "    return y*self._layout.shape[1] + x\n",
    "\n",
    "  def obs_to_state(self, obs):\n",
    "    x = obs % self._layout.shape[1]\n",
    "    y = obs // self._layout.shape[1]\n",
    "    s = np.copy(self._layout)\n",
    "    s[y, x] = 4\n",
    "    return s\n",
    "\n",
    "  def get_state(self, obs):\n",
    "    x = obs % self._layout.shape[1]\n",
    "    y = obs // self._layout.shape[1]\n",
    "\n",
    "    return y, x\n",
    "\n",
    "  # Environment: given an action as input, return [state, reward]\n",
    "  def step(self, action):\n",
    "    y, x = self._state\n",
    "\n",
    "    # Next state\n",
    "    if action == 0:  # up\n",
    "      new_state = (y - 1, x)\n",
    "    elif action == 1:  # right\n",
    "      new_state = (y, x + 1)\n",
    "    elif action == 2:  # down\n",
    "      new_state = (y + 1, x)\n",
    "    elif action == 3:  # left\n",
    "      new_state = (y, x - 1)\n",
    "    else:\n",
    "      raise ValueError(\"Invalid action: {} is not 0, 1, 2, or 3.\".format(action))\n",
    "\n",
    "    # Next reward (wind)\n",
    "    new_y, new_x = new_state\n",
    "    if self._layout[new_y, new_x] == -1:  # wall\n",
    "      reward = -5.\n",
    "      new_state = (y, x)\n",
    "    elif self._layout[new_y, new_x] == 0:  # empty cell\n",
    "      reward = 0.\n",
    "    else:  # a goal\n",
    "      reward = self._layout[new_y, new_x]\n",
    "      new_state = (new_y, new_x)\n",
    "\n",
    "    # Add noise to the reward (?)\n",
    "    if self._noisy:\n",
    "      width = self._layout.shape[1]\n",
    "      reward += 2*np.random.normal(0, width - new_x + new_y)\n",
    "\n",
    "    self._state = new_state\n",
    "\n",
    "    return reward, self.get_obs()\n",
    "\n",
    "grid = Grid()\n",
    "grid.plot_grid()"
   ],
   "metadata": {
    "collapsed": false
   }
  },
  {
   "cell_type": "code",
   "execution_count": 6,
   "outputs": [],
   "source": [
    "\n",
    "\n",
    "class Sarsa:\n",
    "  def __init__(self, grid, number_of_actions, step_size=0.1, eps = 0.1):\n",
    "    self._action_values = np.zeros((grid._number_of_states, number_of_actions))\n",
    "    self._number_of_actions = number_of_actions\n",
    "    self._grid = grid # environment\n",
    "    self._step_size = step_size\n",
    "    self._eps = eps\n",
    "\n",
    "  def run(self, K, discount):\n",
    "    \"\"\"\n",
    "    Run Monte Carlo control algorithm\n",
    "    Args:\n",
    "      K (int): total number of sampled episodes\n",
    "      discount (float): future reward discount value (gamma in Sutton & Barto).\n",
    "    \"\"\"\n",
    "    for k in range(K):\n",
    "      self.episode(discount)\n",
    "\n",
    "  def episode(self, discount):\n",
    "    \"\"\"\n",
    "    Sample and episode.\n",
    "    \"\"\"\n",
    "    # initialization\n",
    "    s = self._grid.get_obs()\n",
    "    a = np.random.randint(0, self._number_of_actions)\n",
    "\n",
    "    # terminal state\n",
    "    T = self._grid.get_obs(terminal = True)\n",
    "    while s != T:\n",
    "      r, next_state = self._grid.step(a)\n",
    "      next_action = self.eps_greedy(next_state) # eps-greedy policy\n",
    "\n",
    "      current_value = self._action_values[s, a]\n",
    "      next_value = self._action_values[next_state, next_action]\n",
    "      update = self._step_size*(r + discount*next_value - current_value)\n",
    "      self._action_values[s, a] += update\n",
    "\n",
    "      s = next_state\n",
    "      a = next_action\n",
    "\n",
    "    # reset grid to start state\n",
    "    self._grid._state = self._grid._start_state\n",
    "\n",
    "\n",
    "  def eps_greedy(self, s):\n",
    "    \"\"\"\n",
    "    Args:\n",
    "      s (int): current state\n",
    "    Returns:\n",
    "      next_action (int): refer to Grid() class for action encoding\n",
    "    \"\"\"\n",
    "\n",
    "    # Pick next action eps-greedily\n",
    "    greedy = np.random.choice([True, False], p=[1-self._eps, self._eps])\n",
    "    if greedy:\n",
    "      return self._action_values[s, :].argmax()\n",
    "\n",
    "    return np.random.randint(0, self._number_of_actions)"
   ],
   "metadata": {
    "collapsed": false
   }
  },
  {
   "cell_type": "code",
   "execution_count": 7,
   "outputs": [
    {
     "name": "stdout",
     "output_type": "stream",
     "text": [
      "Execution time for 100000 episodes: 17.050452947616577\n"
     ]
    }
   ],
   "source": [
    "start = time.time()\n",
    "K = 100000\n",
    "sarsa = Sarsa(grid, 4, eps = 0.1)\n",
    "sarsa.run(K, 0.9)\n",
    "print(f\"Execution time for {K} episodes: {time.time() - start}\")"
   ],
   "metadata": {
    "collapsed": false
   }
  },
  {
   "cell_type": "code",
   "execution_count": 13,
   "outputs": [],
   "source": [
    "action_values = []\n",
    "for a in range(4):\n",
    "  action_grid = np.copy(sarsa._grid._layout).astype(np.float64)\n",
    "  for s, v in enumerate(sarsa._action_values[:, a]):\n",
    "    y, x = sarsa._grid.get_state(s)\n",
    "    action_grid[y, x] = v\n",
    "  action_values.append(action_grid)"
   ],
   "metadata": {
    "collapsed": false
   }
  },
  {
   "cell_type": "code",
   "execution_count": null,
   "outputs": [],
   "source": [
    "fig, ax = plt.subplots(4, 1, figsize = (7, 20))\n",
    "actions = {0: 'up', 1: 'right', 2: 'down', 3:'left'}\n",
    "for i in range(len(action_values)):\n",
    "  ax[i].set_title(actions[i])\n",
    "  heatmap(action_values[i], 7, -6, ax = ax[i])"
   ],
   "metadata": {
    "collapsed": false
   }
  }
 ],
 "metadata": {
  "kernelspec": {
   "display_name": "Python 3",
   "language": "python",
   "name": "python3"
  },
  "language_info": {
   "codemirror_mode": {
    "name": "ipython",
    "version": 2
   },
   "file_extension": ".py",
   "mimetype": "text/x-python",
   "name": "python",
   "nbconvert_exporter": "python",
   "pygments_lexer": "ipython2",
   "version": "2.7.6"
  }
 },
 "nbformat": 4,
 "nbformat_minor": 0
}
