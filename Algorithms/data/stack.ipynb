{
 "cells": [
  {
   "cell_type": "code",
   "execution_count": 1,
   "metadata": {
    "collapsed": true
   },
   "outputs": [],
   "source": [
    "class Stack:\n",
    "    def __init__(self, n):\n",
    "        self.n = n  # max len of stack\n",
    "        self.pos = -1  # current position inside stack\n",
    "        self.stack = [None] * n\n",
    "\n",
    "    def __repr__(self):\n",
    "        return str(self.stack[:self.pos+1])\n",
    "\n",
    "    def _stack_empty(self):\n",
    "        if self.pos == -1:\n",
    "            return True\n",
    "        return False\n",
    "\n",
    "    def push(self, elem):\n",
    "        if self.pos == self.n-1:\n",
    "            raise IndexError(\"Stack overflow\")\n",
    "\n",
    "        self.pos += 1\n",
    "        self.stack[self.pos] = elem\n",
    "\n",
    "    def pop(self):\n",
    "        if self._stack_empty():\n",
    "            raise IndexError(\"Stack underflow\")\n",
    "\n",
    "        self.pos -= 1\n",
    "        return self.stack[self.pos+1]"
   ]
  },
  {
   "cell_type": "code",
   "execution_count": 2,
   "outputs": [
    {
     "name": "stdout",
     "output_type": "stream",
     "text": [
      "[]\n",
      "[5, 7, 9]\n",
      "9\n",
      "7\n",
      "[5]\n",
      "5\n"
     ]
    }
   ],
   "source": [
    "# Example\n",
    "my_stack = Stack(3)\n",
    "print(my_stack)\n",
    "my_stack.push(5)\n",
    "my_stack.push(7)\n",
    "my_stack.push(9)\n",
    "print(my_stack)\n",
    "print(my_stack.pop())\n",
    "print(my_stack.pop())\n",
    "print(my_stack)\n",
    "print(my_stack.pop())"
   ],
   "metadata": {
    "collapsed": false
   }
  }
 ],
 "metadata": {
  "kernelspec": {
   "display_name": "Python 3",
   "language": "python",
   "name": "python3"
  },
  "language_info": {
   "codemirror_mode": {
    "name": "ipython",
    "version": 2
   },
   "file_extension": ".py",
   "mimetype": "text/x-python",
   "name": "python",
   "nbconvert_exporter": "python",
   "pygments_lexer": "ipython2",
   "version": "2.7.6"
  }
 },
 "nbformat": 4,
 "nbformat_minor": 0
}
