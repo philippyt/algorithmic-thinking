{
 "cells": [
  {
   "cell_type": "code",
   "execution_count": 1,
   "metadata": {
    "collapsed": true
   },
   "outputs": [],
   "source": [
    "class Node:\n",
    "    def __init__(self, left, right, parent, key):\n",
    "        self.left = left\n",
    "        self.right = right\n",
    "        self.parent = parent\n",
    "        self.key = key"
   ]
  },
  {
   "cell_type": "code",
   "execution_count": null,
   "outputs": [],
   "source": [
    "class BinarySearchTree:\n",
    "    def __init__(self):\n",
    "        pass\n",
    "\n",
    "    def recursive_search(self, node, k):\n",
    "        if not node or node.key == k:  # node is None or key found\n",
    "            return node\n",
    "\n",
    "        if k <= node.key:\n",
    "            return self.recursive_search(node.left, k)\n",
    "        else:  # k > node.key\n",
    "            return self.recursive_search(node.right, k)\n",
    "\n",
    "    def iterative_search(self, node, k):\n",
    "        while node and node.key != k:  # node is not None and key not found\n",
    "            if k <= node.key:\n",
    "                node = node.left\n",
    "            else:  # k > node.key\n",
    "                node = node.right\n",
    "\n",
    "        return node  # node is None or key found\n",
    "\n",
    "    def minimum(self, node):\n",
    "        while node.left:\n",
    "            node = node.left\n",
    "\n",
    "        return node\n",
    "\n",
    "    def maximum(self, node):\n",
    "        \"\"\"Find the node whose key is maximum in a tree.\"\"\"\n",
    "\n",
    "        while node.right:\n",
    "            node = node.right\n",
    "\n",
    "        return node\n",
    "\n",
    "    def successor(self, node):\n",
    "        if node.right:\n",
    "            node = node.right\n",
    "            while node.left:\n",
    "                node = node.left\n",
    "\n",
    "            return node\n",
    "\n",
    "        else:\n",
    "            parent = node.parent\n",
    "            while parent and node == parent.right:  # short-circuit evaluation\n",
    "                node = node.parent\n",
    "                parent = node.parent\n",
    "\n",
    "            return parent\n",
    "\n",
    "    def predecessor(self):\n",
    "        pass\n",
    "\n",
    "    def insert(self):\n",
    "        pass\n",
    "\n",
    "    def delete(self):\n",
    "        pass\n",
    "\n",
    "    def inorder_tree_walk(self, node):\n",
    "        if node:  # node is not None\n",
    "            self.inorder_tree_walk(node.left)\n",
    "            print(node.key)\n",
    "            self.inorder_tree_walk(node.right)\n",
    "\n",
    "    def preorder_tree_walk(self, node):\n",
    "        if node:\n",
    "            print(node.key)\n",
    "            self.preorder_tree_walk(node.left)\n",
    "            self.preorder_tree_walk(node.right)\n",
    "\n",
    "    def postorder_tree_walk(self, node):\n",
    "        if node:\n",
    "            self.postorder_tree_walk(node.left)\n",
    "            self.postorder_tree_walk(node.right)\n",
    "            print(node.key)"
   ],
   "metadata": {
    "collapsed": false
   }
  }
 ],
 "metadata": {
  "kernelspec": {
   "display_name": "Python 3",
   "language": "python",
   "name": "python3"
  },
  "language_info": {
   "codemirror_mode": {
    "name": "ipython",
    "version": 2
   },
   "file_extension": ".py",
   "mimetype": "text/x-python",
   "name": "python",
   "nbconvert_exporter": "python",
   "pygments_lexer": "ipython2",
   "version": "2.7.6"
  }
 },
 "nbformat": 4,
 "nbformat_minor": 0
}
