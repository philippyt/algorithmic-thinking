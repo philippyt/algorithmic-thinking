{
 "cells": [
  {
   "cell_type": "code",
   "execution_count": 1,
   "metadata": {
    "collapsed": true
   },
   "outputs": [],
   "source": [
    "class Queue:\n",
    "    def __init__(self, n):\n",
    "        self.n = n\n",
    "        self.head = 0\n",
    "        self.tail = 0\n",
    "        self.queue = [None] * (n+1)  # See note 1\n",
    "\n",
    "    def __repr__(self):\n",
    "        return (\n",
    "            f\"{str(self.queue)}\\n\"\n",
    "            f\"head: {self.head}, tail: {self.tail}\"\n",
    "        )\n",
    "\n",
    "    def enqueue(self, elem):\n",
    "        if self.tail+1 == self.head:\n",
    "            raise IndexError(\"Queue is full\")\n",
    "\n",
    "        self.queue[self.tail] = elem\n",
    "\n",
    "        if self.tail == self.n:\n",
    "            self.tail = 0  # wrap around\n",
    "        else:\n",
    "            self.tail += 1\n",
    "\n",
    "    def dequeue(self):\n",
    "        if self.head == self.tail:\n",
    "            raise IndexError(\"Queue is empty\")\n",
    "\n",
    "        dequeued = self.queue[self.head]\n",
    "\n",
    "        if self.head == self.n:\n",
    "            self.head = 0  # wrap around\n",
    "        else:\n",
    "            self.head += 1\n",
    "\n",
    "        return dequeued"
   ]
  },
  {
   "cell_type": "code",
   "execution_count": 2,
   "outputs": [
    {
     "name": "stdout",
     "output_type": "stream",
     "text": [
      "[None, None, None, None]\n",
      "head: 0, tail: 0\n",
      "[1, None, None, None]\n",
      "head: 0, tail: 1\n",
      "[1, 2, None, None]\n",
      "head: 0, tail: 2\n",
      "1\n",
      "[1, 2, None, None]\n",
      "head: 1, tail: 2\n",
      "[1, 2, 3, None]\n",
      "head: 1, tail: 3\n",
      "[1, 2, 3, 4]\n",
      "head: 1, tail: 0\n",
      "2\n",
      "[1, 2, 3, 4]\n",
      "head: 2, tail: 0\n",
      "[5, 2, 3, 4]\n",
      "head: 2, tail: 1\n"
     ]
    },
    {
     "ename": "IndexError",
     "evalue": "Queue is full",
     "output_type": "error",
     "traceback": [
      "\u001B[1;31m---------------------------------------------------------------------------\u001B[0m",
      "\u001B[1;31mIndexError\u001B[0m                                Traceback (most recent call last)",
      "Cell \u001B[1;32mIn[2], line 25\u001B[0m\n\u001B[0;32m     22\u001B[0m queue\u001B[38;5;241m.\u001B[39menqueue(\u001B[38;5;241m5\u001B[39m)\n\u001B[0;32m     23\u001B[0m \u001B[38;5;28mprint\u001B[39m(queue)  \u001B[38;5;66;03m# [5, x, 3, 4] h=2, t=1 -- queue full (tail+1==head)\u001B[39;00m\n\u001B[1;32m---> 25\u001B[0m \u001B[43mqueue\u001B[49m\u001B[38;5;241;43m.\u001B[39;49m\u001B[43menqueue\u001B[49m\u001B[43m(\u001B[49m\u001B[38;5;241;43m6\u001B[39;49m\u001B[43m)\u001B[49m  \u001B[38;5;66;03m# raises error\u001B[39;00m\n",
      "Cell \u001B[1;32mIn[1], line 16\u001B[0m, in \u001B[0;36mQueue.enqueue\u001B[1;34m(self, elem)\u001B[0m\n\u001B[0;32m     14\u001B[0m \u001B[38;5;28;01mdef\u001B[39;00m \u001B[38;5;21menqueue\u001B[39m(\u001B[38;5;28mself\u001B[39m, elem):\n\u001B[0;32m     15\u001B[0m     \u001B[38;5;28;01mif\u001B[39;00m \u001B[38;5;28mself\u001B[39m\u001B[38;5;241m.\u001B[39mtail\u001B[38;5;241m+\u001B[39m\u001B[38;5;241m1\u001B[39m \u001B[38;5;241m==\u001B[39m \u001B[38;5;28mself\u001B[39m\u001B[38;5;241m.\u001B[39mhead:\n\u001B[1;32m---> 16\u001B[0m         \u001B[38;5;28;01mraise\u001B[39;00m \u001B[38;5;167;01mIndexError\u001B[39;00m(\u001B[38;5;124m\"\u001B[39m\u001B[38;5;124mQueue is full\u001B[39m\u001B[38;5;124m\"\u001B[39m)\n\u001B[0;32m     18\u001B[0m     \u001B[38;5;28mself\u001B[39m\u001B[38;5;241m.\u001B[39mqueue[\u001B[38;5;28mself\u001B[39m\u001B[38;5;241m.\u001B[39mtail] \u001B[38;5;241m=\u001B[39m elem\n\u001B[0;32m     20\u001B[0m     \u001B[38;5;28;01mif\u001B[39;00m \u001B[38;5;28mself\u001B[39m\u001B[38;5;241m.\u001B[39mtail \u001B[38;5;241m==\u001B[39m \u001B[38;5;28mself\u001B[39m\u001B[38;5;241m.\u001B[39mn:\n",
      "\u001B[1;31mIndexError\u001B[0m: Queue is full"
     ]
    }
   ],
   "source": [
    "queue = Queue(3)\n",
    "print(queue)  # [x, x, x, x] h=0, t=0 -- queue empty (head==tail)\n",
    "\n",
    "queue.enqueue(1)\n",
    "print(queue)  # [1, x, x, x] h=0, t=1\n",
    "\n",
    "queue.enqueue(2)\n",
    "print(queue)  # [1, 2, x, x] h=0, t=2\n",
    "\n",
    "print(queue.dequeue())  # -> 1\n",
    "print(queue)  # [x, 2, x, x] h=1, t=2\n",
    "\n",
    "queue.enqueue(3)\n",
    "print(queue)  # [x, 2, 3, x] h=1, t=3\n",
    "\n",
    "queue.enqueue(4)\n",
    "print(queue)  # [x, 2, 3, 4] h=1, t=0\n",
    "\n",
    "print(queue.dequeue())  # -> 2\n",
    "print(queue)  # [x, x, 3, 4] h=2, t=0\n",
    "\n",
    "queue.enqueue(5)\n",
    "print(queue)  # [5, x, 3, 4] h=2, t=1 -- queue full (tail+1==head)\n",
    "\n",
    "queue.enqueue(6)  # raises error"
   ],
   "metadata": {
    "collapsed": false
   }
  }
 ],
 "metadata": {
  "kernelspec": {
   "display_name": "Python 3",
   "language": "python",
   "name": "python3"
  },
  "language_info": {
   "codemirror_mode": {
    "name": "ipython",
    "version": 2
   },
   "file_extension": ".py",
   "mimetype": "text/x-python",
   "name": "python",
   "nbconvert_exporter": "python",
   "pygments_lexer": "ipython2",
   "version": "2.7.6"
  }
 },
 "nbformat": 4,
 "nbformat_minor": 0
}
