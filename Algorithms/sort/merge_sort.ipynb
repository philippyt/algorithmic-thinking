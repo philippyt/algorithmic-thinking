{
 "cells": [
  {
   "cell_type": "code",
   "execution_count": 1,
   "metadata": {
    "collapsed": true
   },
   "outputs": [
    {
     "name": "stdout",
     "output_type": "stream",
     "text": [
      "[1, 2, 3, 6, 6, 11, 12, 12, 26, 27, 32, 36, 52, 52, 53, 64, 75, 252]\n",
      "[0, 1, 2, 3, 4, 5, 6, 7, 8, 9]\n",
      "[1]\n",
      "[]\n",
      "[99, 100, 101, 102, 103]\n"
     ]
    }
   ],
   "source": [
    "def merge_sort(arr):\n",
    "    if len(arr) < 2:  # base case: 1 or 0 length is already sorted\n",
    "        return arr\n",
    "\n",
    "    i_split = len(arr) // 2\n",
    "    arr1 = arr[:i_split]\n",
    "    arr2 = arr[i_split:]\n",
    "\n",
    "    arr1_sorted = merge_sort(arr1)\n",
    "    arr2_sorted = merge_sort(arr2)\n",
    "    arr_sorted = []\n",
    "\n",
    "    i = 0\n",
    "    j = 0\n",
    "    for k in range(len(arr)):\n",
    "        if arr1_sorted[i] < arr2_sorted[j]:\n",
    "            arr_sorted.append(arr1_sorted[i])\n",
    "            i += 1\n",
    "\n",
    "            if i >= len(arr1_sorted):\n",
    "                arr_sorted.extend(arr2_sorted[j:])\n",
    "                return arr_sorted\n",
    "\n",
    "        else:\n",
    "            arr_sorted.append(arr2_sorted[j])\n",
    "            j += 1\n",
    "\n",
    "            if j >= len(arr2_sorted):\n",
    "                arr_sorted.extend(arr1_sorted[i:])\n",
    "                return arr_sorted\n",
    "\n",
    "\n",
    "print(merge_sort([6, 27, 1, 36, 75, 3, 2, 6, 32, 26, 52, 64, 11, 12, 252, 52, 53, 12]))\n",
    "print(merge_sort([2, 6, 4, 1, 3, 8, 9, 0, 7, 5]))\n",
    "print(merge_sort([1]))\n",
    "print(merge_sort([]))\n",
    "print(merge_sort([100, 102, 101, 99, 103]))"
   ]
  }
 ],
 "metadata": {
  "kernelspec": {
   "display_name": "Python 3",
   "language": "python",
   "name": "python3"
  },
  "language_info": {
   "codemirror_mode": {
    "name": "ipython",
    "version": 2
   },
   "file_extension": ".py",
   "mimetype": "text/x-python",
   "name": "python",
   "nbconvert_exporter": "python",
   "pygments_lexer": "ipython2",
   "version": "2.7.6"
  }
 },
 "nbformat": 4,
 "nbformat_minor": 0
}
