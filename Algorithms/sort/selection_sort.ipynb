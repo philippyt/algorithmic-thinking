{
 "cells": [
  {
   "cell_type": "code",
   "execution_count": 1,
   "metadata": {
    "collapsed": true
   },
   "outputs": [
    {
     "name": "stdout",
     "output_type": "stream",
     "text": [
      "[1, 2, 3, 6, 6, 11, 12, 12, 26, 27, 32, 36, 52, 52, 53, 64, 75, 252]\n",
      "[0, 1, 2, 3, 4, 5, 6, 7, 8, 9]\n"
     ]
    }
   ],
   "source": [
    "def selection_sort(a):\n",
    "    if not a:\n",
    "        return a\n",
    "\n",
    "    for i in range(len(a)):\n",
    "        j_min = i\n",
    "        for j in range(i+1, len(a)):\n",
    "            if a[j] < a[j_min]:\n",
    "                j_min = j\n",
    "\n",
    "        if j_min != i:\n",
    "            tmp = a[i]\n",
    "            a[i] = a[j_min]\n",
    "            a[j_min] = tmp\n",
    "\n",
    "    return a\n",
    "\n",
    "print(selection_sort([6, 27, 1, 36, 75, 3, 2, 6, 32, 26, 52, 64, 11, 12, 252, 52, 53, 12]))\n",
    "print(selection_sort([2, 6, 4, 1, 3, 8, 9, 0, 7, 5]))"
   ]
  }
 ],
 "metadata": {
  "kernelspec": {
   "display_name": "Python 3",
   "language": "python",
   "name": "python3"
  },
  "language_info": {
   "codemirror_mode": {
    "name": "ipython",
    "version": 2
   },
   "file_extension": ".py",
   "mimetype": "text/x-python",
   "name": "python",
   "nbconvert_exporter": "python",
   "pygments_lexer": "ipython2",
   "version": "2.7.6"
  }
 },
 "nbformat": 4,
 "nbformat_minor": 0
}
