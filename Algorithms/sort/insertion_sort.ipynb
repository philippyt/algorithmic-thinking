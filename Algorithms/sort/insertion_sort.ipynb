{
 "cells": [
  {
   "cell_type": "code",
   "execution_count": 1,
   "metadata": {
    "collapsed": true
   },
   "outputs": [
    {
     "name": "stdout",
     "output_type": "stream",
     "text": [
      "[1, 2, 2, 2, 3, 3, 4]\n",
      "[0, 1, 2, 3, 4, 5, 6, 7, 8, 9]\n"
     ]
    }
   ],
   "source": [
    "def insertion_sort(a):\n",
    "    for i in range(1, len(a)):  # skip first element (already sorted)\n",
    "        for j in reversed(range(1, i+1)):  # j = i, i-1, ..., 1\n",
    "            if a[j-1] > a[j]:  # j-1 includes the check for index 0\n",
    "                a[j-1], a[j] = a[j], a[j-1]\n",
    "\n",
    "    return a\n",
    "\n",
    "\n",
    "print(insertion_sort([4, 1, 3, 3, 2, 2, 2]))\n",
    "print(insertion_sort([2, 6, 4, 1, 3, 8, 9, 0, 7, 5]))"
   ]
  },
  {
   "cell_type": "code",
   "execution_count": 2,
   "outputs": [
    {
     "name": "stdout",
     "output_type": "stream",
     "text": [
      "[1, 2, 2, 2, 3, 3, 4]\n",
      "[0, 1, 2, 3, 4, 5, 6, 7, 8, 9]\n"
     ]
    }
   ],
   "source": [
    "# Alternate version using list.pop and list.insert\n",
    "def insertion_sort_popinsert(a):\n",
    "    for i in range(1, len(a)):  # skip first element (already sorted)\n",
    "        cur = a.pop(i)  # O(n)\n",
    "\n",
    "        for j in range(i+1):\n",
    "            if j == i or a[j] > cur:  # must use short-circuit evaluation\n",
    "                a.insert(j, cur)  # O(n)\n",
    "                break\n",
    "\n",
    "    return a\n",
    "\n",
    "\n",
    "print(insertion_sort_popinsert([4, 1, 3, 3, 2, 2, 2]))\n",
    "print(insertion_sort_popinsert([2, 6, 4, 1, 3, 8, 9, 0, 7, 5]))"
   ],
   "metadata": {
    "collapsed": false
   }
  }
 ],
 "metadata": {
  "kernelspec": {
   "display_name": "Python 3",
   "language": "python",
   "name": "python3"
  },
  "language_info": {
   "codemirror_mode": {
    "name": "ipython",
    "version": 2
   },
   "file_extension": ".py",
   "mimetype": "text/x-python",
   "name": "python",
   "nbconvert_exporter": "python",
   "pygments_lexer": "ipython2",
   "version": "2.7.6"
  }
 },
 "nbformat": 4,
 "nbformat_minor": 0
}
