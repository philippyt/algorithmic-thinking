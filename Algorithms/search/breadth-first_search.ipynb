{
 "cells": [
  {
   "cell_type": "code",
   "execution_count": 1,
   "metadata": {
    "collapsed": true
   },
   "outputs": [],
   "source": [
    "class Graph:\n",
    "    def __init__(self, adjacency):\n",
    "        self.adjacency = adjacency"
   ]
  },
  {
   "cell_type": "code",
   "execution_count": 2,
   "outputs": [],
   "source": [
    "class Queue:\n",
    "    def __init__(self, n):\n",
    "        self.n = n\n",
    "        self.head = 0\n",
    "        self.tail = 0\n",
    "        self.queue = [None] * (n+1)\n",
    "\n",
    "    def __repr__(self):\n",
    "        return (\n",
    "            f\"{str(self.queue)}\\n\"\n",
    "            f\"head: {self.head}, tail: {self.tail}\"\n",
    "        )\n",
    "\n",
    "    def is_empty(self):\n",
    "        if self.tail == self.head:\n",
    "            return True\n",
    "        return False\n",
    "\n",
    "    def enqueue(self, elem):\n",
    "        if self.tail+1 == self.head:\n",
    "            raise IndexError(\"Queue is full\")\n",
    "\n",
    "        self.queue[self.tail] = elem\n",
    "\n",
    "        if self.tail == self.n:\n",
    "            self.tail = 0  # wrap around\n",
    "        else:\n",
    "            self.tail += 1\n",
    "\n",
    "    def dequeue(self):\n",
    "        if self.is_empty():\n",
    "            raise IndexError(\"Queue is empty\")\n",
    "\n",
    "        dequeued = self.queue[self.head]\n",
    "\n",
    "        if self.head == self.n:\n",
    "            self.head = 0  # wrap around\n",
    "        else:\n",
    "            self.head += 1\n",
    "\n",
    "        return dequeued"
   ],
   "metadata": {
    "collapsed": false
   }
  },
  {
   "cell_type": "code",
   "execution_count": 3,
   "outputs": [],
   "source": [
    "def breadth_first_search(g: Graph, s):\n",
    "    explored = set(s)\n",
    "    queue = Queue(len(g.adjacency))\n",
    "    queue.enqueue(s)\n",
    "\n",
    "    while not queue.is_empty():\n",
    "        v = queue.dequeue()\n",
    "\n",
    "        for w in g.adjacency[v]:  # iterate over v's neighbors\n",
    "            if w not in explored:\n",
    "                explored.add(w)\n",
    "                queue.enqueue(w)\n",
    "\n",
    "    return explored"
   ],
   "metadata": {
    "collapsed": false
   }
  }
 ],
 "metadata": {
  "kernelspec": {
   "display_name": "Python 3",
   "language": "python",
   "name": "python3"
  },
  "language_info": {
   "codemirror_mode": {
    "name": "ipython",
    "version": 2
   },
   "file_extension": ".py",
   "mimetype": "text/x-python",
   "name": "python",
   "nbconvert_exporter": "python",
   "pygments_lexer": "ipython2",
   "version": "2.7.6"
  }
 },
 "nbformat": 4,
 "nbformat_minor": 0
}
